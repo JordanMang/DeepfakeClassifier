{
  "cells": [
    {
      "cell_type": "markdown",
      "metadata": {
        "id": "pksMAQk0jjCt"
      },
      "source": [
        "# XCEPTION"
      ]
    },
    {
      "cell_type": "markdown",
      "metadata": {
        "id": "VUns3wNpjjCw"
      },
      "source": [
        "## Opening Remarks"
      ]
    },
    {
      "cell_type": "markdown",
      "metadata": {
        "id": "DpItWJg6wj9Y"
      },
      "source": [
        "After a bit of time trying to create confusion matrix's based on my model I started running into some problems and to work around those issues I had to recreate the structure of my pipeline to include generators and this was a learning journey for sure. XCEPTION is another premade model that I am hoiping to use to gain a couple more points in my accuracy model."
      ]
    },
    {
      "cell_type": "code",
      "execution_count": 1,
      "metadata": {
        "id": "keIiLw3fTC5o"
      },
      "outputs": [],
      "source": [
        "import numpy as np\n",
        "import pandas as pd\n",
        "from matplotlib import pyplot as plt\n",
        "from sklearn.metrics import classification_report,confusion_matrix\n",
        "from tensorflow import keras\n",
        "\n",
        "import tensorflow as tf\n",
        "from tensorflow.keras import datasets, layers, models, Sequential\n",
        "from tensorflow.keras import models, layers, optimizers, regularizers\n",
        "# from tensorflow.keras.models import Sequential\n",
        "from tensorflow.keras.metrics import Precision, Recall, BinaryAccuracy\n",
        "\n",
        "from tensorflow.keras.layers import Conv2D, MaxPooling2D, Dense, Flatten, Dropout\n",
        "\n",
        "\n",
        "import cv2\n",
        "import os\n",
        "\n",
        "from tensorflow.keras.preprocessing.image import ImageDataGenerator"
      ]
    },
    {
      "cell_type": "code",
      "execution_count": 2,
      "metadata": {
        "colab": {
          "base_uri": "https://localhost:8080/"
        },
        "id": "B6GNzF4VjrCO",
        "outputId": "26d42d6e-613f-408f-8d24-39e2cf9238d7"
      },
      "outputs": [
        {
          "output_type": "stream",
          "name": "stdout",
          "text": [
            "Mounted at /content/drive\n"
          ]
        }
      ],
      "source": [
        "from google.colab import drive\n",
        "drive.mount('/content/drive')"
      ]
    },
    {
      "cell_type": "code",
      "execution_count": 3,
      "metadata": {
        "id": "ZxouzLH4jjCz"
      },
      "outputs": [],
      "source": [
        "# using ImageDataGenerator to rescale all images \n",
        "train_datagen = ImageDataGenerator(rescale=1./256)\n",
        "val_datagen = ImageDataGenerator(rescale=1./256)\n",
        "test_datagen = ImageDataGenerator(rescale=1./256)"
      ]
    },
    {
      "cell_type": "code",
      "execution_count": 4,
      "metadata": {
        "colab": {
          "base_uri": "https://localhost:8080/"
        },
        "id": "3XZmh89aOtD3",
        "outputId": "d8cfeebe-2065-494e-fd27-bdb8b84433da"
      },
      "outputs": [
        {
          "output_type": "stream",
          "name": "stdout",
          "text": [
            "Found 19862 files belonging to 2 classes.\n",
            "Found 6208 files belonging to 2 classes.\n",
            "Found 4965 files belonging to 2 classes.\n"
          ]
        }
      ],
      "source": [
        "train = tf.keras.utils.image_dataset_from_directory('/content/drive/MyDrive/Data_NEW/train')\n",
        "test = tf.keras.utils.image_dataset_from_directory('/content/drive/MyDrive/Data_NEW/test')\n",
        "val = tf.keras.utils.image_dataset_from_directory('/content/drive/MyDrive/Data_NEW/val')"
      ]
    },
    {
      "cell_type": "code",
      "execution_count": 5,
      "metadata": {
        "colab": {
          "base_uri": "https://localhost:8080/"
        },
        "id": "Frgs5SkljjC0",
        "outputId": "60da3337-74fe-44be-ff61-15bff599867e"
      },
      "outputs": [
        {
          "output_type": "stream",
          "name": "stdout",
          "text": [
            "Found 19862 images belonging to 2 classes.\n",
            "Found 4965 images belonging to 2 classes.\n",
            "Found 6208 images belonging to 2 classes.\n"
          ]
        }
      ],
      "source": [
        "train_generator = val_datagen.flow_from_directory('/content/drive/MyDrive/Data_NEW/train',\n",
        "                                                        target_size=(256, 256),\n",
        "                                                        batch_size=32,\n",
        "                                                        color_mode='rgb',\n",
        "                                                        class_mode='binary')\n",
        "validation_generator = val_datagen.flow_from_directory('/content/drive/MyDrive/Data_NEW/val',\n",
        "                                                        target_size=(256, 256),\n",
        "                                                        batch_size=10,\n",
        "                                                        color_mode='rgb',\n",
        "                                                        class_mode='binary')\n",
        "test_generator = test_datagen.flow_from_directory('/content/drive/MyDrive/Data_NEW/test',\n",
        "                                                  target_size=(256, 256),\n",
        "                                                  batch_size=1,\n",
        "                                                  color_mode='rgb',\n",
        "                                                  class_mode='binary')"
      ]
    },
    {
      "cell_type": "code",
      "execution_count": 6,
      "metadata": {
        "id": "88todEzgq_qQ"
      },
      "outputs": [],
      "source": [
        "test_data, test_labels = next (test_generator)\n",
        "train_data, train_labels = next (train_generator)\n",
        "val_data, val_labels = next (validation_generator)"
      ]
    },
    {
      "cell_type": "code",
      "execution_count": 7,
      "metadata": {
        "id": "RFulpsYT5kHE",
        "colab": {
          "base_uri": "https://localhost:8080/"
        },
        "outputId": "be57ea5c-e8a0-41a7-b90b-43f9c6f1bc80"
      },
      "outputs": [
        {
          "output_type": "stream",
          "name": "stdout",
          "text": [
            "Downloading data from https://storage.googleapis.com/tensorflow/keras-applications/xception/xception_weights_tf_dim_ordering_tf_kernels_notop.h5\n",
            "83689472/83683744 [==============================] - 2s 0us/step\n",
            "83697664/83683744 [==============================] - 2s 0us/step\n"
          ]
        }
      ],
      "source": [
        "xception = tf.keras.applications.Xception(\n",
        "                                            include_top=False,     \n",
        "                                            weights='imagenet',          \n",
        "                                            classifier_activation='sigmoid',     \n",
        "                                            input_shape=(256, 256, 3), )"
      ]
    },
    {
      "cell_type": "code",
      "execution_count": 8,
      "metadata": {
        "colab": {
          "base_uri": "https://localhost:8080/"
        },
        "id": "_VoXG5p2gmF9",
        "outputId": "2ec1d07c-3e25-4d5e-be56-341eb59ba0c2"
      },
      "outputs": [
        {
          "output_type": "stream",
          "name": "stdout",
          "text": [
            "Model: \"sequential\"\n",
            "_________________________________________________________________\n",
            " Layer (type)                Output Shape              Param #   \n",
            "=================================================================\n",
            " xception (Functional)       (None, 8, 8, 2048)        20861480  \n",
            "                                                                 \n",
            " flatten (Flatten)           (None, 131072)            0         \n",
            "                                                                 \n",
            " dense (Dense)               (None, 1)                 131073    \n",
            "                                                                 \n",
            "=================================================================\n",
            "Total params: 20,992,553\n",
            "Trainable params: 20,938,025\n",
            "Non-trainable params: 54,528\n",
            "_________________________________________________________________\n"
          ]
        }
      ],
      "source": [
        "model = tf.keras.Sequential([\n",
        "xception,\n",
        "layers.Flatten(),\n",
        "layers.Dense(1, activation='sigmoid')\n",
        "])\n",
        "\n",
        "\n",
        "model.summary()\n",
        "\n",
        "model.compile(optimizer=optimizers.Adam(learning_rate=0.00001),\n",
        "              loss=tf.losses.BinaryCrossentropy(),\n",
        "              metrics='accuracy')"
      ]
    },
    {
      "cell_type": "code",
      "execution_count": 13,
      "metadata": {
        "colab": {
          "base_uri": "https://localhost:8080/"
        },
        "id": "4M7xs3z2gsUd",
        "outputId": "20fce397-f122-4d3e-9a48-254d7a534681"
      },
      "outputs": [
        {
          "output_type": "stream",
          "name": "stdout",
          "text": [
            "Epoch 1/5\n",
            "100/100 [==============================] - 614s 6s/step - loss: 0.0729 - accuracy: 0.9753 - val_loss: 0.0801 - val_accuracy: 0.9734\n",
            "Epoch 2/5\n",
            "100/100 [==============================] - 532s 5s/step - loss: 0.0810 - accuracy: 0.9727 - val_loss: 0.0750 - val_accuracy: 0.9736\n",
            "Epoch 3/5\n",
            "100/100 [==============================] - 457s 5s/step - loss: 0.0643 - accuracy: 0.9825 - val_loss: 0.0614 - val_accuracy: 0.9793\n",
            "Epoch 4/5\n",
            "100/100 [==============================] - 384s 4s/step - loss: 0.0431 - accuracy: 0.9891 - val_loss: 0.0539 - val_accuracy: 0.9821\n",
            "Epoch 5/5\n",
            "100/100 [==============================] - 316s 3s/step - loss: 0.0352 - accuracy: 0.9897 - val_loss: 0.0503 - val_accuracy: 0.9839\n"
          ]
        }
      ],
      "source": [
        "history = model.fit(train_generator,\n",
        "                    steps_per_epoch=100,\n",
        "                    epochs=5,  # Number of epochs\n",
        "                    validation_data=validation_generator,\n",
        "                    )"
      ]
    },
    {
      "cell_type": "code",
      "execution_count": 14,
      "metadata": {
        "id": "2nkHzU6Lg5NI"
      },
      "outputs": [],
      "source": [
        "pre = Precision()\n",
        "re = Recall()\n",
        "acc = BinaryAccuracy()"
      ]
    },
    {
      "cell_type": "code",
      "execution_count": 15,
      "metadata": {
        "id": "fSDjYwskg_ly"
      },
      "outputs": [],
      "source": [
        "# Get precision, recall, and accuracy for test batch set\n",
        "for batch in test.as_numpy_iterator(): \n",
        "    X, y = batch\n",
        "    yhat = model.predict(X)\n",
        "    pre.update_state(y, yhat)\n",
        "    re.update_state(y, yhat)\n",
        "    acc.update_state(y, yhat)"
      ]
    },
    {
      "cell_type": "code",
      "execution_count": 16,
      "metadata": {
        "colab": {
          "base_uri": "https://localhost:8080/"
        },
        "id": "wCEkeSt4ro5z",
        "outputId": "aac289e3-157b-4570-dc2b-779eaca80e3f"
      },
      "outputs": [
        {
          "output_type": "stream",
          "name": "stdout",
          "text": [
            "Precision: 0.5087265968322754, Recall: 0.9958873987197876, Accuracy: 0.5082151889801025\n"
          ]
        }
      ],
      "source": [
        "print(f'Precision: {pre.result()}, Recall: {re.result()}, Accuracy: {acc.result()}')"
      ]
    },
    {
      "cell_type": "markdown",
      "metadata": {
        "id": "XgM-wPKQjjC4"
      },
      "source": [
        "# Results of VGG"
      ]
    },
    {
      "cell_type": "markdown",
      "metadata": {
        "id": "z5sEeiHP21Yi"
      },
      "source": [
        "VGG:Precision: 0.9582728743553162, Recall: 0.835495114326477, Accuracy: 0.8977126479148865 (2 EPOCHS)\n",
        "<br>VGG:Precision: Precision: 0.9752442836761475, Recall: 0.9471685886383057, Accuracy: 0.9608569741249084\n",
        "(6 EPOCHS)\n",
        "<br>VGG:Precision: Precision: 0.9539697170257568, Recall: 0.9769060611724854, Accuracy: 0.9642397165298462\n",
        "(8 EPOCHS)\n",
        "<br>VGG:Precision: Precision: 0.9901024103164673, Recall: 0.9177475571632385, Accuracy: 0.953447163105011\n",
        "(10 EPOCHS)\n",
        "<br> VGG_COMP: Precision: 0.9824896454811096, Recall: 0.9762733578681946, Accuracy: 0.9790592789649963 (7 EPOCHS)\n",
        "<br> VGG (REVAMP): Precision: 0.6386809349060059, Recall: 0.9987345933914185, Accuracy: 0.7116623520851135 (7 EPOCHS)\n",
        "<br> VGG (REVAMP): Precision: 0.7617433667182922, Recall: 0.9952546954154968, Accuracy: 0.8390786051750183 (10 EPOCHS)\n",
        "<br>Precision: 0.7409582138061523, Recall: 0.9981018900871277, Accuracy: 0.8213595151901245 - 11 EPOCHS\n",
        "<br>Precision: 0.7332867383956909, Recall: 0.9958873987197876, Accuracy: 0.813466489315033 - 12 EPOCHS\n",
        "<br>XCEPTION: Precision: 0.5087947845458984, Recall: 0.9882948398590088, Accuracy: 0.5082151889801025 - 5\n",
        "<br>XCEPTION: Precision: 0.5087265968322754, Recall: 0.9958873987197876, Accuracy: 0.5082151889801025 - 10"
      ]
    },
    {
      "cell_type": "markdown",
      "metadata": {
        "id": "fagFNMDYjjC5"
      },
      "source": [
        "# Take Aways"
      ]
    },
    {
      "cell_type": "markdown",
      "metadata": {
        "id": "8nY7TpjejjC5"
      },
      "source": [
        "I thought that XCEPTION would do a little better than the VGG but that doesn't seem to be the case? I only base this off the fact that Stanford used it in their deepfake model."
      ]
    },
    {
      "cell_type": "markdown",
      "metadata": {
        "id": "dPkhNe0ajjC7"
      },
      "source": [
        "# Create Confusion Matrix"
      ]
    },
    {
      "cell_type": "code",
      "source": [
        "from sklearn.metrics import confusion_matrix, ConfusionMatrixDisplay, classification_report\n",
        "from tensorflow.keras.preprocessing.image import ImageDataGenerator"
      ],
      "metadata": {
        "id": "dotRYoT7QDjo"
      },
      "execution_count": 17,
      "outputs": []
    },
    {
      "cell_type": "code",
      "source": [
        "# Function to show confusion matrix \n",
        "##from sklearn\n",
        "def plot_confusion_matrix(cm, classes,\n",
        "                        normalize=False,\n",
        "                        title='Confusion matrix',\n",
        "                        cmap=plt.cm.Blues):\n",
        "    \"\"\"\n",
        "    This function prints and plots the confusion matrix.\n",
        "    Normalization can be applied by setting `normalize=True`.\n",
        "    \"\"\"\n",
        "    plt.imshow(cm, interpolation='nearest', cmap=cmap)\n",
        "    plt.title(title)\n",
        "    plt.colorbar()\n",
        "    tick_marks = np.arange(len(classes))\n",
        "    plt.xticks(tick_marks, classes, rotation=45)\n",
        "    plt.yticks(tick_marks, classes)\n",
        "\n",
        "    if normalize:\n",
        "        cm = cm.astype('float') / cm.sum(axis=1)[:, np.newaxis]\n",
        "        print(\"Normalized confusion matrix\")\n",
        "    else:\n",
        "        print('Confusion matrix, without normalization')\n",
        "\n",
        "    print(cm)\n",
        "\n",
        "    thresh = cm.max() / 2.\n",
        "    for i, j in itertools.product(range(cm.shape[0]), range(cm.shape[1])):\n",
        "        plt.text(j, i, cm[i, j],\n",
        "            horizontalalignment=\"center\",\n",
        "            color=\"white\" if cm[i, j] > thresh else \"black\")\n",
        "\n",
        "    plt.tight_layout()\n",
        "    plt.ylabel('True label')\n",
        "    plt.xlabel('Predicted label')"
      ],
      "metadata": {
        "id": "whQDAPg1QFNq"
      },
      "execution_count": 18,
      "outputs": []
    },
    {
      "cell_type": "code",
      "source": [
        "validation_generator = val_datagen.flow_from_directory('/content/drive/MyDrive/Data_NEW/val',\n",
        "                                                        target_size=(256, 256),\n",
        "                                                        batch_size=1000,\n",
        "                                                        color_mode='rgb',\n",
        "                                                        class_mode='binary')"
      ],
      "metadata": {
        "colab": {
          "base_uri": "https://localhost:8080/"
        },
        "id": "Not2uPIQXKdg",
        "outputId": "c9f9e5dc-a4e1-48f5-a99c-22cf8c416940"
      },
      "execution_count": 19,
      "outputs": [
        {
          "output_type": "stream",
          "name": "stdout",
          "text": [
            "Found 4965 images belonging to 2 classes.\n"
          ]
        }
      ]
    },
    {
      "cell_type": "code",
      "source": [
        "val_data, val_labels = next (validation_generator)"
      ],
      "metadata": {
        "id": "n0tFxNEdXQWO"
      },
      "execution_count": 20,
      "outputs": []
    },
    {
      "cell_type": "code",
      "source": [
        "y_pred = (model.predict(val_data) > 0.5).astype(\"int32\")\n",
        "cm = confusion_matrix(y_true= val_labels, y_pred=y_pred)  "
      ],
      "metadata": {
        "id": "cSmdEVK8QIq6"
      },
      "execution_count": 21,
      "outputs": []
    },
    {
      "cell_type": "code",
      "source": [
        "import itertools\n",
        "cm_labels = ['Unaltered','Deepfake']\n",
        "plot_confusion_matrix(cm=cm, classes=cm_labels, title='XCEPTION');"
      ],
      "metadata": {
        "colab": {
          "base_uri": "https://localhost:8080/",
          "height": 363
        },
        "id": "sCO6yJ7DQOXA",
        "outputId": "4eccdee4-bc6e-40f6-a24f-1f769a0b3867"
      },
      "execution_count": 22,
      "outputs": [
        {
          "output_type": "stream",
          "name": "stdout",
          "text": [
            "Confusion matrix, without normalization\n",
            "[[492   5]\n",
            " [ 12 491]]\n"
          ]
        },
        {
          "output_type": "display_data",
          "data": {
            "text/plain": [
              "<Figure size 432x288 with 2 Axes>"
            ],
            "image/png": "[encoded data removed]"
          },
          "metadata": {
            "needs_background": "light"
          }
        }
      ]
    }
  ],
  "metadata": {
    "accelerator": "GPU",
    "colab": {
      "collapsed_sections": [],
      "machine_shape": "hm",
      "provenance": []
    },
    "kernelspec": {
      "display_name": "Python 3",
      "language": "python",
      "name": "python3"
    },
    "language_info": {
      "codemirror_mode": {
        "name": "ipython",
        "version": 3
      },
      "file_extension": ".py",
      "mimetype": "text/x-python",
      "name": "python",
      "nbconvert_exporter": "python",
      "pygments_lexer": "ipython3",
      "version": "3.8.5"
    }
  },
  "nbformat": 4,
  "nbformat_minor": 0
}
