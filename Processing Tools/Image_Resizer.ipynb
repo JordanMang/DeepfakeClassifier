{
 "cells": [
  {
   "cell_type": "code",
   "execution_count": 13,
   "metadata": {},
   "outputs": [],
   "source": [
    "import PIL\n",
    "import os\n",
    "import os.path\n",
    "from PIL import Image"
   ]
  },
  {
   "cell_type": "code",
   "execution_count": 14,
   "metadata": {},
   "outputs": [],
   "source": [
    "f = r'/Users/jordanmang/Flatiron/Flatiron_Labs/FaceForensics/Resized copy/ORIGINALFACES/'\n",
    "out = r'/Users/jordanmang/Flatiron/Flatiron_Labs/FaceForensics/Resized copy/OGFACEFINAL/'\n",
    "\n",
    "for file in os.listdir(f):\n",
    "    if not file.startswith('.'):\n",
    "        f_img = f + '/' + file\n",
    "        out_img = out + '/' + file\n",
    "        img = Image.open(f_img)\n",
    "        img = img.resize((256,256))\n",
    "        img.save(out_img)"
   ]
  },
  {
   "cell_type": "markdown",
   "metadata": {},
   "source": [
    "This code was used in the resizing of the cropped images, making sure that all of the images are the same size."
   ]
  }
 ],
 "metadata": {
  "kernelspec": {
   "display_name": "Python (learn-env)",
   "language": "python",
   "name": "learn-env"
  },
  "language_info": {
   "codemirror_mode": {
    "name": "ipython",
    "version": 3
   },
   "file_extension": ".py",
   "mimetype": "text/x-python",
   "name": "python",
   "nbconvert_exporter": "python",
   "pygments_lexer": "ipython3",
   "version": "3.8.5"
  }
 },
 "nbformat": 4,
 "nbformat_minor": 4
}
